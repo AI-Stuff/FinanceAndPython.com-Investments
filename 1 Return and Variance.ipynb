{
 "cells": [
  {
   "cell_type": "code",
   "execution_count": 1,
   "metadata": {
    "collapsed": true
   },
   "outputs": [],
   "source": [
    "class stock:\n",
    "    def __init__(self,expectedReturn):\n",
    "        self.expectedReturn = expectedReturn"
   ]
  },
  {
   "cell_type": "code",
   "execution_count": 2,
   "metadata": {
    "collapsed": true
   },
   "outputs": [],
   "source": [
    "stocks = [stock(.04),stock(.02),stock(.03)]"
   ]
  },
  {
   "cell_type": "code",
   "execution_count": 3,
   "metadata": {
    "collapsed": true
   },
   "outputs": [],
   "source": [
    "investments = [10000,20000,5000]"
   ]
  },
  {
   "cell_type": "code",
   "execution_count": 4,
   "metadata": {},
   "outputs": [
    {
     "name": "stdout",
     "output_type": "stream",
     "text": [
      "[0.04, 0.02, 0.03]\n"
     ]
    }
   ],
   "source": [
    "print([x.expectedReturn for x in stocks])"
   ]
  },
  {
   "cell_type": "code",
   "execution_count": 5,
   "metadata": {},
   "outputs": [
    {
     "name": "stdout",
     "output_type": "stream",
     "text": [
      "0.04\n",
      "10000\n",
      "0.02\n",
      "20000\n",
      "0.03\n",
      "5000\n"
     ]
    }
   ],
   "source": [
    "for x,y in zip(stocks,investments):\n",
    "    print(x.expectedReturn)\n",
    "    print(y)"
   ]
  },
  {
   "cell_type": "code",
   "execution_count": 6,
   "metadata": {},
   "outputs": [
    {
     "data": {
      "text/plain": [
       "[400.0, 400.0, 150.0]"
      ]
     },
     "execution_count": 6,
     "metadata": {},
     "output_type": "execute_result"
    }
   ],
   "source": [
    "[x.expectedReturn * y for x,y in zip(stocks,investments)]"
   ]
  },
  {
   "cell_type": "code",
   "execution_count": 7,
   "metadata": {},
   "outputs": [
    {
     "data": {
      "text/plain": [
       "[10400.0, 20400.0, 5150.0]"
      ]
     },
     "execution_count": 7,
     "metadata": {},
     "output_type": "execute_result"
    }
   ],
   "source": [
    "[(x.expectedReturn+1) * y for x,y in zip(stocks,investments)]"
   ]
  },
  {
   "cell_type": "code",
   "execution_count": 8,
   "metadata": {},
   "outputs": [
    {
     "data": {
      "text/plain": [
       "0.027142857142857142"
      ]
     },
     "execution_count": 8,
     "metadata": {},
     "output_type": "execute_result"
    }
   ],
   "source": [
    "sum([x.expectedReturn * y for x,y in zip(stocks,investments)])/sum(investments)"
   ]
  },
  {
   "cell_type": "code",
   "execution_count": 9,
   "metadata": {},
   "outputs": [
    {
     "name": "stdout",
     "output_type": "stream",
     "text": [
      "0.027142857142857142\n"
     ]
    }
   ],
   "source": [
    "weights = [x/sum(investments) for x in investments]\n",
    "print(sum([x.expectedReturn * y for x,y in zip(stocks,weights)]))"
   ]
  },
  {
   "cell_type": "code",
   "execution_count": 10,
   "metadata": {},
   "outputs": [
    {
     "name": "stdout",
     "output_type": "stream",
     "text": [
      "Requirement already satisfied: pandas-datareader in /Library/Frameworks/Python.framework/Versions/2.7/lib/python2.7/site-packages\n",
      "Requirement already satisfied: requests>=2.3.0 in /Library/Frameworks/Python.framework/Versions/2.7/lib/python2.7/site-packages (from pandas-datareader)\n",
      "Requirement already satisfied: requests-ftp in /Library/Frameworks/Python.framework/Versions/2.7/lib/python2.7/site-packages (from pandas-datareader)\n",
      "Requirement already satisfied: requests-file in /Library/Frameworks/Python.framework/Versions/2.7/lib/python2.7/site-packages (from pandas-datareader)\n",
      "Requirement already satisfied: pandas>=0.17.0 in /Library/Frameworks/Python.framework/Versions/2.7/lib/python2.7/site-packages (from pandas-datareader)\n",
      "Requirement already satisfied: chardet<3.1.0,>=3.0.2 in /Library/Frameworks/Python.framework/Versions/2.7/lib/python2.7/site-packages (from requests>=2.3.0->pandas-datareader)\n",
      "Requirement already satisfied: certifi>=2017.4.17 in /Library/Frameworks/Python.framework/Versions/2.7/lib/python2.7/site-packages (from requests>=2.3.0->pandas-datareader)\n",
      "Requirement already satisfied: idna<2.6,>=2.5 in /Library/Frameworks/Python.framework/Versions/2.7/lib/python2.7/site-packages (from requests>=2.3.0->pandas-datareader)\n",
      "Requirement already satisfied: urllib3<1.22,>=1.21.1 in /Library/Frameworks/Python.framework/Versions/2.7/lib/python2.7/site-packages (from requests>=2.3.0->pandas-datareader)\n",
      "Requirement already satisfied: six in /Library/Frameworks/Python.framework/Versions/2.7/lib/python2.7/site-packages (from requests-file->pandas-datareader)\n",
      "Requirement already satisfied: numpy>=1.7.0 in /Library/Frameworks/Python.framework/Versions/2.7/lib/python2.7/site-packages (from pandas>=0.17.0->pandas-datareader)\n",
      "Requirement already satisfied: python-dateutil in /Library/Frameworks/Python.framework/Versions/2.7/lib/python2.7/site-packages (from pandas>=0.17.0->pandas-datareader)\n",
      "Requirement already satisfied: pytz>=2011k in /Library/Frameworks/Python.framework/Versions/2.7/lib/python2.7/site-packages (from pandas>=0.17.0->pandas-datareader)\n"
     ]
    }
   ],
   "source": [
    "!pip install pandas-datareader"
   ]
  },
  {
   "cell_type": "code",
   "execution_count": 11,
   "metadata": {
    "collapsed": true
   },
   "outputs": [],
   "source": [
    "import pandas_datareader.data as web\n",
    "import datetime"
   ]
  },
  {
   "cell_type": "code",
   "execution_count": 12,
   "metadata": {},
   "outputs": [
    {
     "name": "stdout",
     "output_type": "stream",
     "text": [
      "             Open   High    Low  Close     Volume\n",
      "Date                                             \n",
      "2010-01-04  10.17  10.28  10.05  10.28   60855796\n",
      "2010-01-05  10.45  11.24  10.40  10.96  215620138\n",
      "2010-01-06  11.21  11.46  11.13  11.37  200070554\n",
      "2010-01-07  11.46  11.69  11.32  11.66  130201626\n",
      "2010-01-08  11.67  11.74  11.46  11.69  130462912\n",
      "2010-01-11  11.90  12.14  11.78  12.11  170626174\n",
      "2010-01-12  11.98  12.03  11.72  11.87  162995898\n",
      "2010-01-13  11.91  11.93  11.47  11.68  154527028\n",
      "2010-01-14  11.65  11.86  11.51  11.76  116572673\n",
      "2010-01-15  11.74  11.76  11.55  11.60   96174717\n",
      "2010-01-19  11.51  11.83  11.46  11.75   65933944\n",
      "2010-01-20  11.68  11.69  11.50  11.51   71649459\n",
      "2010-01-21  11.53  11.62  11.01  11.18  121451396\n",
      "2010-01-22  11.01  11.12  10.41  10.52  161530010\n",
      "2010-01-25  10.73  11.10  10.61  11.03  121621423\n",
      "2010-01-26  11.17  11.46  11.07  11.19  108250462\n",
      "2010-01-27  11.57  11.62  11.22  11.55  105091531\n",
      "2010-01-28  11.90  11.95  11.27  11.41  203466724\n",
      "2010-01-29  11.60  11.61  10.70  10.84  159741164\n",
      "2010-02-01  11.14  11.18  10.93  11.12   82748130\n",
      "2010-02-02  11.26  11.52  11.19  11.39  119785377\n",
      "2010-02-03  11.49  11.66  11.42  11.64   90125495\n",
      "2010-02-04  11.49  11.53  11.00  11.06  129792142\n",
      "2010-02-05  10.97  11.11  10.49  10.91  181535182\n",
      "2010-02-08  11.09  11.32  10.88  10.97   92031327\n",
      "2010-02-09  11.18  11.22  11.02  11.15   83207091\n",
      "2010-02-10  11.12  11.14  10.90  10.94   73395561\n",
      "2010-02-11  11.00  11.18  10.88  11.18   65116156\n",
      "2010-02-12  10.92  11.18  10.85  11.12   69465400\n",
      "2010-02-16  11.21  11.38  11.11  11.32   62537480\n",
      "...           ...    ...    ...    ...        ...\n",
      "2017-03-20  12.48  12.49  12.25  12.28   45329650\n",
      "2017-03-21  12.30  12.32  11.70  11.72  101559879\n",
      "2017-03-22  11.78  11.83  11.62  11.77   71107861\n",
      "2017-03-23  11.57  11.75  11.50  11.67   71209260\n",
      "2017-03-24  11.66  11.76  11.55  11.62   43772442\n",
      "2017-03-27  11.51  11.55  11.41  11.46   57713419\n",
      "2017-03-28  11.51  11.80  11.48  11.65   57662806\n",
      "2017-03-29  11.73  11.76  11.64  11.68   35795737\n",
      "2017-03-30  11.67  11.74  11.61  11.68   28008241\n",
      "2017-03-31  11.66  11.68  11.60  11.64   26717520\n",
      "2017-04-03  11.64  11.64  11.28  11.44   65671114\n",
      "2017-04-04  11.38  11.48  11.28  11.37   40068175\n",
      "2017-04-05  11.48  11.50  11.25  11.26   43316140\n",
      "2017-04-06  11.27  11.36  11.22  11.27   36165281\n",
      "2017-04-07  11.26  11.31  11.21  11.23   28874909\n",
      "2017-04-10  11.26  11.35  11.24  11.25   25857108\n",
      "2017-04-11  11.27  11.28  11.17  11.28   36366316\n",
      "2017-04-12  11.27  11.30  11.20  11.23   56588425\n",
      "2017-04-13  11.22  11.25  11.11  11.11   32789905\n",
      "2017-04-17  11.22  11.30  11.14  11.28   44731735\n",
      "2017-04-18  11.15  11.18  11.08  11.14   35659989\n",
      "2017-04-19  11.19  11.28  11.17  11.19   37524445\n",
      "2017-04-20  11.25  11.50  11.24  11.47   49990191\n",
      "2017-04-21  11.46  11.48  11.32  11.34   26076186\n",
      "2017-04-24  11.48  11.50  11.36  11.43   41071326\n",
      "2017-04-25  11.47  11.50  11.43  11.48   35862521\n",
      "2017-04-26  11.47  11.70  11.45  11.60   51685768\n",
      "2017-04-27  11.66  11.68  11.34  11.47   50203741\n",
      "2017-04-28  11.51  11.51  11.40  11.47   41415145\n",
      "2017-05-01  11.49  11.54  11.40  11.42   32118379\n",
      "\n",
      "[1844 rows x 5 columns]\n"
     ]
    }
   ],
   "source": [
    "start = datetime.datetime(2010, 1, 1)\n",
    "end = datetime.datetime(2017, 5, 1)\n",
    "stock = web.DataReader(\"F\", 'google', start, end)\n",
    "print(stock)"
   ]
  },
  {
   "cell_type": "code",
   "execution_count": 13,
   "metadata": {},
   "outputs": [
    {
     "name": "stdout",
     "output_type": "stream",
     "text": [
      "Date\n",
      "2010-01-04    10.28\n",
      "2010-01-05    10.96\n",
      "2010-01-06    11.37\n",
      "2010-01-07    11.66\n",
      "2010-01-08    11.69\n",
      "2010-01-11    12.11\n",
      "2010-01-12    11.87\n",
      "2010-01-13    11.68\n",
      "2010-01-14    11.76\n",
      "2010-01-15    11.60\n",
      "2010-01-19    11.75\n",
      "2010-01-20    11.51\n",
      "2010-01-21    11.18\n",
      "2010-01-22    10.52\n",
      "2010-01-25    11.03\n",
      "2010-01-26    11.19\n",
      "2010-01-27    11.55\n",
      "2010-01-28    11.41\n",
      "2010-01-29    10.84\n",
      "2010-02-01    11.12\n",
      "2010-02-02    11.39\n",
      "2010-02-03    11.64\n",
      "2010-02-04    11.06\n",
      "2010-02-05    10.91\n",
      "2010-02-08    10.97\n",
      "2010-02-09    11.15\n",
      "2010-02-10    10.94\n",
      "2010-02-11    11.18\n",
      "2010-02-12    11.12\n",
      "2010-02-16    11.32\n",
      "              ...  \n",
      "2017-03-20    12.28\n",
      "2017-03-21    11.72\n",
      "2017-03-22    11.77\n",
      "2017-03-23    11.67\n",
      "2017-03-24    11.62\n",
      "2017-03-27    11.46\n",
      "2017-03-28    11.65\n",
      "2017-03-29    11.68\n",
      "2017-03-30    11.68\n",
      "2017-03-31    11.64\n",
      "2017-04-03    11.44\n",
      "2017-04-04    11.37\n",
      "2017-04-05    11.26\n",
      "2017-04-06    11.27\n",
      "2017-04-07    11.23\n",
      "2017-04-10    11.25\n",
      "2017-04-11    11.28\n",
      "2017-04-12    11.23\n",
      "2017-04-13    11.11\n",
      "2017-04-17    11.28\n",
      "2017-04-18    11.14\n",
      "2017-04-19    11.19\n",
      "2017-04-20    11.47\n",
      "2017-04-21    11.34\n",
      "2017-04-24    11.43\n",
      "2017-04-25    11.48\n",
      "2017-04-26    11.60\n",
      "2017-04-27    11.47\n",
      "2017-04-28    11.47\n",
      "2017-05-01    11.42\n",
      "Name: Close, Length: 1844, dtype: float64\n"
     ]
    }
   ],
   "source": [
    "print(stock[\"Close\"])"
   ]
  },
  {
   "cell_type": "code",
   "execution_count": 14,
   "metadata": {},
   "outputs": [
    {
     "name": "stdout",
     "output_type": "stream",
     "text": [
      "Date\n",
      "2010-01-04         NaN\n",
      "2010-01-05    0.066148\n",
      "2010-01-06    0.037409\n",
      "2010-01-07    0.025506\n",
      "2010-01-08    0.002573\n",
      "2010-01-11    0.035928\n",
      "2010-01-12   -0.019818\n",
      "2010-01-13   -0.016007\n",
      "2010-01-14    0.006849\n",
      "2010-01-15   -0.013605\n",
      "2010-01-19    0.012931\n",
      "2010-01-20   -0.020426\n",
      "2010-01-21   -0.028671\n",
      "2010-01-22   -0.059034\n",
      "2010-01-25    0.048479\n",
      "2010-01-26    0.014506\n",
      "2010-01-27    0.032172\n",
      "2010-01-28   -0.012121\n",
      "2010-01-29   -0.049956\n",
      "2010-02-01    0.025830\n",
      "2010-02-02    0.024281\n",
      "2010-02-03    0.021949\n",
      "2010-02-04   -0.049828\n",
      "2010-02-05   -0.013562\n",
      "2010-02-08    0.005500\n",
      "2010-02-09    0.016408\n",
      "2010-02-10   -0.018834\n",
      "2010-02-11    0.021938\n",
      "2010-02-12   -0.005367\n",
      "2010-02-16    0.017986\n",
      "                ...   \n",
      "2017-03-20   -0.016026\n",
      "2017-03-21   -0.045603\n",
      "2017-03-22    0.004266\n",
      "2017-03-23   -0.008496\n",
      "2017-03-24   -0.004284\n",
      "2017-03-27   -0.013769\n",
      "2017-03-28    0.016579\n",
      "2017-03-29    0.002575\n",
      "2017-03-30    0.000000\n",
      "2017-03-31   -0.003425\n",
      "2017-04-03   -0.017182\n",
      "2017-04-04   -0.006119\n",
      "2017-04-05   -0.009675\n",
      "2017-04-06    0.000888\n",
      "2017-04-07   -0.003549\n",
      "2017-04-10    0.001781\n",
      "2017-04-11    0.002667\n",
      "2017-04-12   -0.004433\n",
      "2017-04-13   -0.010686\n",
      "2017-04-17    0.015302\n",
      "2017-04-18   -0.012411\n",
      "2017-04-19    0.004488\n",
      "2017-04-20    0.025022\n",
      "2017-04-21   -0.011334\n",
      "2017-04-24    0.007937\n",
      "2017-04-25    0.004374\n",
      "2017-04-26    0.010453\n",
      "2017-04-27   -0.011207\n",
      "2017-04-28    0.000000\n",
      "2017-05-01   -0.004359\n",
      "Name: Close, Length: 1844, dtype: float64\n"
     ]
    }
   ],
   "source": [
    "print(stock[\"Close\"].pct_change())"
   ]
  },
  {
   "cell_type": "code",
   "execution_count": 15,
   "metadata": {
    "collapsed": true
   },
   "outputs": [],
   "source": [
    "dailyReturns = stock[\"Close\"].pct_change()"
   ]
  },
  {
   "cell_type": "code",
   "execution_count": 16,
   "metadata": {},
   "outputs": [
    {
     "name": "stdout",
     "output_type": "stream",
     "text": [
      "Date\n",
      "2010-01-05    0.066148\n",
      "2010-01-06    0.037409\n",
      "2010-01-07    0.025506\n",
      "2010-01-08    0.002573\n",
      "2010-01-11    0.035928\n",
      "2010-01-12   -0.019818\n",
      "2010-01-13   -0.016007\n",
      "2010-01-14    0.006849\n",
      "2010-01-15   -0.013605\n",
      "2010-01-19    0.012931\n",
      "2010-01-20   -0.020426\n",
      "2010-01-21   -0.028671\n",
      "2010-01-22   -0.059034\n",
      "2010-01-25    0.048479\n",
      "2010-01-26    0.014506\n",
      "2010-01-27    0.032172\n",
      "2010-01-28   -0.012121\n",
      "2010-01-29   -0.049956\n",
      "2010-02-01    0.025830\n",
      "2010-02-02    0.024281\n",
      "2010-02-03    0.021949\n",
      "2010-02-04   -0.049828\n",
      "2010-02-05   -0.013562\n",
      "2010-02-08    0.005500\n",
      "2010-02-09    0.016408\n",
      "2010-02-10   -0.018834\n",
      "2010-02-11    0.021938\n",
      "2010-02-12   -0.005367\n",
      "2010-02-16    0.017986\n",
      "2010-02-17    0.015018\n",
      "                ...   \n",
      "2017-03-20   -0.016026\n",
      "2017-03-21   -0.045603\n",
      "2017-03-22    0.004266\n",
      "2017-03-23   -0.008496\n",
      "2017-03-24   -0.004284\n",
      "2017-03-27   -0.013769\n",
      "2017-03-28    0.016579\n",
      "2017-03-29    0.002575\n",
      "2017-03-30    0.000000\n",
      "2017-03-31   -0.003425\n",
      "2017-04-03   -0.017182\n",
      "2017-04-04   -0.006119\n",
      "2017-04-05   -0.009675\n",
      "2017-04-06    0.000888\n",
      "2017-04-07   -0.003549\n",
      "2017-04-10    0.001781\n",
      "2017-04-11    0.002667\n",
      "2017-04-12   -0.004433\n",
      "2017-04-13   -0.010686\n",
      "2017-04-17    0.015302\n",
      "2017-04-18   -0.012411\n",
      "2017-04-19    0.004488\n",
      "2017-04-20    0.025022\n",
      "2017-04-21   -0.011334\n",
      "2017-04-24    0.007937\n",
      "2017-04-25    0.004374\n",
      "2017-04-26    0.010453\n",
      "2017-04-27   -0.011207\n",
      "2017-04-28    0.000000\n",
      "2017-05-01   -0.004359\n",
      "Name: Close, Length: 1843, dtype: float64\n"
     ]
    }
   ],
   "source": [
    "dailyReturns = dailyReturns.dropna()\n",
    "print(dailyReturns)"
   ]
  },
  {
   "cell_type": "code",
   "execution_count": 17,
   "metadata": {},
   "outputs": [
    {
     "name": "stdout",
     "output_type": "stream",
     "text": [
      "0.018055156815642914\n",
      "0.0003259886876374567\n"
     ]
    }
   ],
   "source": [
    "import numpy as np\n",
    "print(np.std(dailyReturns, ddof=1))\n",
    "print(np.var(dailyReturns, ddof=1))"
   ]
  },
  {
   "cell_type": "code",
   "execution_count": 18,
   "metadata": {},
   "outputs": [
    {
     "name": "stdout",
     "output_type": "stream",
     "text": [
      "0.018055156815642914\n",
      "0.018055156815642914\n"
     ]
    }
   ],
   "source": [
    "print(np.std(dailyReturns, ddof=1))\n",
    "print(np.var(dailyReturns, ddof=1)**.5)"
   ]
  },
  {
   "cell_type": "code",
   "execution_count": 19,
   "metadata": {},
   "outputs": [
    {
     "name": "stdout",
     "output_type": "stream",
     "text": [
      "0.00022067403497871472\n"
     ]
    }
   ],
   "source": [
    "print(np.mean(dailyReturns))"
   ]
  },
  {
   "cell_type": "code",
   "execution_count": 20,
   "metadata": {},
   "outputs": [
    {
     "data": {
      "image/png": "[encoded data removed]",
      "text/plain": [
       "<matplotlib.figure.Figure at 0x117096a20>"
      ]
     },
     "metadata": {},
     "output_type": "display_data"
    }
   ],
   "source": [
    "import matplotlib.pyplot as plt\n",
    "dailyReturns.plot.hist()\n",
    "plt.show()"
   ]
  },
  {
   "cell_type": "code",
   "execution_count": 21,
   "metadata": {},
   "outputs": [
    {
     "data": {
      "image/png": "[encoded data removed]",
      "text/plain": [
       "<matplotlib.figure.Figure at 0x11a4a55f8>"
      ]
     },
     "metadata": {},
     "output_type": "display_data"
    },
    {
     "data": {
      "image/png": "[encoded data removed]",
      "text/plain": [
       "<matplotlib.figure.Figure at 0x11a5a5eb8>"
      ]
     },
     "metadata": {},
     "output_type": "display_data"
    }
   ],
   "source": [
    "import matplotlib.pyplot as plt\n",
    "dailyReturns.plot.hist(bins=20)\n",
    "plt.show()\n",
    "import matplotlib.pyplot as plt\n",
    "dailyReturns.plot.hist(bins=50)\n",
    "plt.show()"
   ]
  },
  {
   "cell_type": "code",
   "execution_count": 22,
   "metadata": {
    "collapsed": true
   },
   "outputs": [],
   "source": [
    "ford = web.DataReader(\"F\", 'google', start, end)[\"Close\"].pct_change().dropna()\n",
    "honda = web.DataReader(\"HMC\", 'google', start, end)[\"Close\"].pct_change().dropna()\n",
    "toyota = web.DataReader(\"TM\", 'google', start, end)[\"Close\"].pct_change().dropna()"
   ]
  },
  {
   "cell_type": "code",
   "execution_count": 23,
   "metadata": {},
   "outputs": [
    {
     "name": "stdout",
     "output_type": "stream",
     "text": [
      "[[ 0.00032599  0.00011682  0.0001078 ]\n",
      " [ 0.00011682  0.00023005  0.00014703]\n",
      " [ 0.0001078   0.00014703  0.0001913 ]]\n"
     ]
    }
   ],
   "source": [
    "matrix = np.cov([ford,honda,toyota])\n",
    "print(matrix)"
   ]
  },
  {
   "cell_type": "code",
   "execution_count": 24,
   "metadata": {},
   "outputs": [
    {
     "name": "stdout",
     "output_type": "stream",
     "text": [
      "[[ 1.          0.42658401]\n",
      " [ 0.42658401  1.        ]]\n"
     ]
    }
   ],
   "source": [
    "print(np.corrcoef(ford,honda))"
   ]
  },
  {
   "cell_type": "code",
   "execution_count": 25,
   "metadata": {},
   "outputs": [
    {
     "name": "stdout",
     "output_type": "stream",
     "text": [
      "0.426584013533\n"
     ]
    }
   ],
   "source": [
    "fordSD = matrix[0][0]**.5\n",
    "hondaSD = matrix[1][1]**.5\n",
    "cov = matrix[0][1]\n",
    "\n",
    "print(cov/(fordSD*hondaSD))"
   ]
  },
  {
   "cell_type": "code",
   "execution_count": 26,
   "metadata": {
    "collapsed": true
   },
   "outputs": [],
   "source": [
    "start = datetime.datetime(2015, 1, 1)\n",
    "end = datetime.datetime(2016, 1, 1)\n",
    "ford = web.DataReader(\"F\", 'google', start, end)[\"Close\"]\n",
    "honda = web.DataReader(\"HMC\", 'google', start, end)[\"Close\"]\n",
    "toyota = web.DataReader(\"TM\", 'google', start, end)[\"Close\"]"
   ]
  },
  {
   "cell_type": "code",
   "execution_count": 27,
   "metadata": {},
   "outputs": [
    {
     "name": "stdout",
     "output_type": "stream",
     "text": [
      "Date\n",
      "2015-01-02    15.36\n",
      "Name: Close, dtype: float64\n",
      "Date\n",
      "2015-12-31    14.09\n",
      "Name: Close, dtype: float64\n"
     ]
    }
   ],
   "source": [
    "print(ford.first('1D'))\n",
    "print(ford.last('1D'))"
   ]
  },
  {
   "cell_type": "code",
   "execution_count": 28,
   "metadata": {},
   "outputs": [
    {
     "name": "stdout",
     "output_type": "stream",
     "text": [
      "[ 15.36]\n"
     ]
    }
   ],
   "source": [
    "print(ford.first('1D').values)"
   ]
  },
  {
   "cell_type": "code",
   "execution_count": 29,
   "metadata": {},
   "outputs": [
    {
     "name": "stdout",
     "output_type": "stream",
     "text": [
      "[ 0.91731771]\n"
     ]
    }
   ],
   "source": [
    "print(ford.last('1D').values/ford.first('1D').values)"
   ]
  },
  {
   "cell_type": "code",
   "execution_count": 30,
   "metadata": {
    "collapsed": true
   },
   "outputs": [],
   "source": [
    "retFord = (ford.last('1D').values/ford.first('1D').values)[0]-1\n",
    "retToyota = (toyota.last('1D').values/toyota.first('1D').values)[0]-1"
   ]
  },
  {
   "cell_type": "code",
   "execution_count": 31,
   "metadata": {},
   "outputs": [
    {
     "name": "stdout",
     "output_type": "stream",
     "text": [
      "-0.0394541662937\n"
     ]
    }
   ],
   "source": [
    "print(retFord*.3+retToyota*.7)"
   ]
  },
  {
   "cell_type": "code",
   "execution_count": 32,
   "metadata": {
    "collapsed": true
   },
   "outputs": [],
   "source": [
    "fordStocks = 3000/ford.first('1D').values[0]\n",
    "toyotaStocks = 7000/toyota.first('1D').values[0]"
   ]
  },
  {
   "cell_type": "code",
   "execution_count": 33,
   "metadata": {},
   "outputs": [
    {
     "name": "stdout",
     "output_type": "stream",
     "text": [
      "2751.953125\n",
      "6853.50521206\n"
     ]
    }
   ],
   "source": [
    "print(fordStocks*ford.last('1D').values[0])\n",
    "print(toyotaStocks*toyota.last('1D').values[0])"
   ]
  },
  {
   "cell_type": "code",
   "execution_count": 34,
   "metadata": {},
   "outputs": [
    {
     "name": "stdout",
     "output_type": "stream",
     "text": [
      "-0.0394541662937\n"
     ]
    }
   ],
   "source": [
    "print(((fordStocks*ford.last('1D').values[0]+toyotaStocks*toyota.last('1D').values[0])/10000)-1)"
   ]
  },
  {
   "cell_type": "code",
   "execution_count": 35,
   "metadata": {},
   "outputs": [
    {
     "name": "stdout",
     "output_type": "stream",
     "text": [
      "             Ford  Toyota\n",
      "Date                     \n",
      "2015-01-02  15.36  125.67\n",
      "2015-01-05  14.76  123.37\n",
      "2015-01-06  14.62  122.10\n",
      "2015-01-07  15.04  125.17\n",
      "2015-01-08  15.42  127.58\n",
      "2015-01-09  15.21  126.08\n",
      "2015-01-12  15.22  126.04\n",
      "2015-01-13  15.21  126.41\n",
      "2015-01-14  15.11  125.82\n",
      "2015-01-15  14.86  126.78\n",
      "2015-01-16  15.02  128.88\n",
      "2015-01-20  15.01  129.16\n",
      "2015-01-21  14.97  128.66\n",
      "2015-01-22  15.03  129.86\n",
      "2015-01-23  14.91  129.66\n",
      "2015-01-26  15.08  131.86\n",
      "2015-01-27  14.85  131.10\n",
      "2015-01-28  14.46  130.95\n",
      "2015-01-29  14.85  132.15\n",
      "2015-01-30  14.71  128.85\n",
      "2015-02-02  15.27  131.09\n",
      "2015-02-03  15.65  131.10\n",
      "2015-02-04  15.87  132.68\n",
      "2015-02-05  15.85  131.74\n",
      "2015-02-06  15.86  129.57\n",
      "2015-02-09  15.92  129.16\n",
      "2015-02-10  16.09  130.85\n",
      "2015-02-11  16.25  131.02\n",
      "2015-02-12  16.36  131.82\n",
      "2015-02-13  16.30  132.49\n",
      "...           ...     ...\n",
      "2015-11-18  14.46  124.91\n",
      "2015-11-19  14.57  123.89\n",
      "2015-11-20  14.60  123.67\n",
      "2015-11-23  14.55  123.12\n",
      "2015-11-24  14.55  124.02\n",
      "2015-11-25  14.55  123.86\n",
      "2015-11-27  14.53  124.37\n",
      "2015-11-30  14.33  124.42\n",
      "2015-12-01  14.56  125.92\n",
      "2015-12-02  14.26  125.74\n",
      "2015-12-03  13.98  124.72\n",
      "2015-12-04  14.20  125.90\n",
      "2015-12-07  14.12  125.15\n",
      "2015-12-08  13.97  122.52\n",
      "2015-12-09  13.89  123.90\n",
      "2015-12-10  13.96  124.89\n",
      "2015-12-11  13.64  123.67\n",
      "2015-12-14  13.62  122.50\n",
      "2015-12-15  13.87  122.17\n",
      "2015-12-16  14.36  126.66\n",
      "2015-12-17  13.98  124.80\n",
      "2015-12-18  13.80  124.39\n",
      "2015-12-21  13.73  124.65\n",
      "2015-12-22  14.20  125.58\n",
      "2015-12-23  14.36  127.15\n",
      "2015-12-24  14.31  125.77\n",
      "2015-12-28  14.18  124.47\n",
      "2015-12-29  14.23  124.76\n",
      "2015-12-30  14.17  123.22\n",
      "2015-12-31  14.09  123.04\n",
      "\n",
      "[252 rows x 2 columns]\n"
     ]
    }
   ],
   "source": [
    "import pandas as pd\n",
    "ford = ford.rename(\"Ford\")\n",
    "toyota = toyota.rename(\"Toyota\")\n",
    "stocks = pd.concat([ford,toyota],axis=1)\n",
    "print(stocks)"
   ]
  },
  {
   "cell_type": "code",
   "execution_count": 36,
   "metadata": {},
   "outputs": [
    {
     "name": "stdout",
     "output_type": "stream",
     "text": [
      "Ford       15.36\n",
      "Toyota    125.67\n",
      "Name: 2015-01-02 00:00:00, dtype: float64\n"
     ]
    }
   ],
   "source": [
    "print(stocks.iloc[0,:])"
   ]
  },
  {
   "cell_type": "code",
   "execution_count": 37,
   "metadata": {},
   "outputs": [
    {
     "name": "stdout",
     "output_type": "stream",
     "text": [
      "                Ford    Toyota\n",
      "Date                          \n",
      "2015-01-02  1.000000  1.000000\n",
      "2015-01-05  0.960938  0.981698\n",
      "2015-01-06  0.951823  0.971592\n",
      "2015-01-07  0.979167  0.996021\n",
      "2015-01-08  1.003906  1.015199\n",
      "2015-01-09  0.990234  1.003263\n",
      "2015-01-12  0.990885  1.002944\n",
      "2015-01-13  0.990234  1.005888\n",
      "2015-01-14  0.983724  1.001194\n",
      "2015-01-15  0.967448  1.008833\n",
      "2015-01-16  0.977865  1.025543\n",
      "2015-01-20  0.977214  1.027771\n",
      "2015-01-21  0.974609  1.023792\n",
      "2015-01-22  0.978516  1.033341\n",
      "2015-01-23  0.970703  1.031750\n",
      "2015-01-26  0.981771  1.049256\n",
      "2015-01-27  0.966797  1.043208\n",
      "2015-01-28  0.941406  1.042015\n",
      "2015-01-29  0.966797  1.051564\n",
      "2015-01-30  0.957682  1.025304\n",
      "2015-02-02  0.994141  1.043129\n",
      "2015-02-03  1.018880  1.043208\n",
      "2015-02-04  1.033203  1.055781\n",
      "2015-02-05  1.031901  1.048301\n",
      "2015-02-06  1.032552  1.031034\n",
      "2015-02-09  1.036458  1.027771\n",
      "2015-02-10  1.047526  1.041219\n",
      "2015-02-11  1.057943  1.042572\n",
      "2015-02-12  1.065104  1.048938\n",
      "2015-02-13  1.061198  1.054269\n",
      "...              ...       ...\n",
      "2015-11-18  0.941406  0.993952\n",
      "2015-11-19  0.948568  0.985836\n",
      "2015-11-20  0.950521  0.984085\n",
      "2015-11-23  0.947266  0.979709\n",
      "2015-11-24  0.947266  0.986870\n",
      "2015-11-25  0.947266  0.985597\n",
      "2015-11-27  0.945964  0.989655\n",
      "2015-11-30  0.932943  0.990053\n",
      "2015-12-01  0.947917  1.001989\n",
      "2015-12-02  0.928385  1.000557\n",
      "2015-12-03  0.910156  0.992441\n",
      "2015-12-04  0.924479  1.001830\n",
      "2015-12-07  0.919271  0.995862\n",
      "2015-12-08  0.909505  0.974934\n",
      "2015-12-09  0.904297  0.985915\n",
      "2015-12-10  0.908854  0.993793\n",
      "2015-12-11  0.888021  0.984085\n",
      "2015-12-14  0.886719  0.974775\n",
      "2015-12-15  0.902995  0.972149\n",
      "2015-12-16  0.934896  1.007878\n",
      "2015-12-17  0.910156  0.993077\n",
      "2015-12-18  0.898438  0.989815\n",
      "2015-12-21  0.893880  0.991884\n",
      "2015-12-22  0.924479  0.999284\n",
      "2015-12-23  0.934896  1.011777\n",
      "2015-12-24  0.931641  1.000796\n",
      "2015-12-28  0.923177  0.990451\n",
      "2015-12-29  0.926432  0.992759\n",
      "2015-12-30  0.922526  0.980504\n",
      "2015-12-31  0.917318  0.979072\n",
      "\n",
      "[252 rows x 2 columns]\n"
     ]
    }
   ],
   "source": [
    "print(stocks/stocks.iloc[0,:])"
   ]
  },
  {
   "cell_type": "code",
   "execution_count": 38,
   "metadata": {},
   "outputs": [
    {
     "name": "stdout",
     "output_type": "stream",
     "text": [
      "                   Ford       Toyota\n",
      "Date                                \n",
      "2015-01-02  3000.000000  7000.000000\n",
      "2015-01-05  2882.812500  6871.886687\n",
      "2015-01-06  2855.468750  6801.145858\n",
      "2015-01-07  2937.500000  6972.149280\n",
      "2015-01-08  3011.718750  7106.389751\n",
      "2015-01-09  2970.703125  7022.837591\n",
      "2015-01-12  2972.656250  7020.609533\n",
      "2015-01-13  2970.703125  7041.219066\n",
      "2015-01-14  2951.171875  7008.355216\n",
      "2015-01-15  2902.343750  7061.828599\n",
      "2015-01-16  2933.593750  7178.801623\n",
      "2015-01-20  2931.640625  7194.398027\n",
      "2015-01-21  2923.828125  7166.547306\n",
      "2015-01-22  2935.546875  7233.389035\n",
      "2015-01-23  2912.109375  7222.248747\n",
      "2015-01-26  2945.312500  7344.791915\n",
      "2015-01-27  2900.390625  7302.458821\n",
      "2015-01-28  2824.218750  7294.103605\n",
      "2015-01-29  2900.390625  7360.945333\n",
      "2015-01-30  2873.046875  7177.130580\n",
      "2015-02-02  2982.421875  7301.901806\n",
      "2015-02-03  3056.640625  7302.458821\n",
      "2015-02-04  3099.609375  7390.467096\n",
      "2015-02-05  3095.703125  7338.107743\n",
      "2015-02-06  3097.656250  7217.235617\n",
      "2015-02-09  3109.375000  7194.398027\n",
      "2015-02-10  3142.578125  7288.533461\n",
      "2015-02-11  3173.828125  7298.002705\n",
      "2015-02-12  3195.312500  7342.563858\n",
      "2015-02-13  3183.593750  7379.883823\n",
      "...                 ...          ...\n",
      "2015-11-18  2824.218750  6957.666905\n",
      "2015-11-19  2845.703125  6900.851436\n",
      "2015-11-20  2851.562500  6888.597119\n",
      "2015-11-23  2841.796875  6857.961327\n",
      "2015-11-24  2841.796875  6908.092624\n",
      "2015-11-25  2841.796875  6899.180393\n",
      "2015-11-27  2837.890625  6927.588128\n",
      "2015-11-30  2798.828125  6930.373200\n",
      "2015-12-01  2843.750000  7013.925360\n",
      "2015-12-02  2785.156250  7003.899101\n",
      "2015-12-03  2730.468750  6947.083632\n",
      "2015-12-04  2773.437500  7012.811331\n",
      "2015-12-07  2757.812500  6971.035251\n",
      "2015-12-08  2728.515625  6824.540463\n",
      "2015-12-09  2712.890625  6901.408451\n",
      "2015-12-10  2726.562500  6956.552877\n",
      "2015-12-11  2664.062500  6888.597119\n",
      "2015-12-14  2660.156250  6823.426434\n",
      "2015-12-15  2708.984375  6805.044959\n",
      "2015-12-16  2804.687500  7055.144426\n",
      "2015-12-17  2730.468750  6951.539747\n",
      "2015-12-18  2695.312500  6928.702156\n",
      "2015-12-21  2681.640625  6943.184531\n",
      "2015-12-22  2773.437500  6994.986870\n",
      "2015-12-23  2804.687500  7082.438132\n",
      "2015-12-24  2794.921875  7005.570144\n",
      "2015-12-28  2769.531250  6933.158272\n",
      "2015-12-29  2779.296875  6949.311689\n",
      "2015-12-30  2767.578125  6863.531471\n",
      "2015-12-31  2751.953125  6853.505212\n",
      "\n",
      "[252 rows x 2 columns]\n"
     ]
    }
   ],
   "source": [
    "print(stocks/stocks.iloc[0,:]*[3000,7000])"
   ]
  },
  {
   "cell_type": "code",
   "execution_count": 39,
   "metadata": {},
   "outputs": [
    {
     "name": "stdout",
     "output_type": "stream",
     "text": [
      "                   Ford       Toyota     Portfolio\n",
      "Date                                              \n",
      "2015-01-02  3000.000000  7000.000000  10000.000000\n",
      "2015-01-05  2882.812500  6871.886687   9754.699187\n",
      "2015-01-06  2855.468750  6801.145858   9656.614608\n",
      "2015-01-07  2937.500000  6972.149280   9909.649280\n",
      "2015-01-08  3011.718750  7106.389751  10118.108501\n",
      "2015-01-09  2970.703125  7022.837591   9993.540716\n",
      "2015-01-12  2972.656250  7020.609533   9993.265783\n",
      "2015-01-13  2970.703125  7041.219066  10011.922191\n",
      "2015-01-14  2951.171875  7008.355216   9959.527091\n",
      "2015-01-15  2902.343750  7061.828599   9964.172349\n",
      "2015-01-16  2933.593750  7178.801623  10112.395373\n",
      "2015-01-20  2931.640625  7194.398027  10126.038652\n",
      "2015-01-21  2923.828125  7166.547306  10090.375431\n",
      "2015-01-22  2935.546875  7233.389035  10168.935910\n",
      "2015-01-23  2912.109375  7222.248747  10134.358122\n",
      "2015-01-26  2945.312500  7344.791915  10290.104415\n",
      "2015-01-27  2900.390625  7302.458821  10202.849446\n",
      "2015-01-28  2824.218750  7294.103605  10118.322355\n",
      "2015-01-29  2900.390625  7360.945333  10261.335958\n",
      "2015-01-30  2873.046875  7177.130580  10050.177455\n",
      "2015-02-02  2982.421875  7301.901806  10284.323681\n",
      "2015-02-03  3056.640625  7302.458821  10359.099446\n",
      "2015-02-04  3099.609375  7390.467096  10490.076471\n",
      "2015-02-05  3095.703125  7338.107743  10433.810868\n",
      "2015-02-06  3097.656250  7217.235617  10314.891867\n",
      "2015-02-09  3109.375000  7194.398027  10303.773027\n",
      "2015-02-10  3142.578125  7288.533461  10431.111586\n",
      "2015-02-11  3173.828125  7298.002705  10471.830830\n",
      "2015-02-12  3195.312500  7342.563858  10537.876358\n",
      "2015-02-13  3183.593750  7379.883823  10563.477573\n",
      "...                 ...          ...           ...\n",
      "2015-11-18  2824.218750  6957.666905   9781.885655\n",
      "2015-11-19  2845.703125  6900.851436   9746.554561\n",
      "2015-11-20  2851.562500  6888.597119   9740.159619\n",
      "2015-11-23  2841.796875  6857.961327   9699.758202\n",
      "2015-11-24  2841.796875  6908.092624   9749.889499\n",
      "2015-11-25  2841.796875  6899.180393   9740.977268\n",
      "2015-11-27  2837.890625  6927.588128   9765.478753\n",
      "2015-11-30  2798.828125  6930.373200   9729.201325\n",
      "2015-12-01  2843.750000  7013.925360   9857.675360\n",
      "2015-12-02  2785.156250  7003.899101   9789.055351\n",
      "2015-12-03  2730.468750  6947.083632   9677.552382\n",
      "2015-12-04  2773.437500  7012.811331   9786.248831\n",
      "2015-12-07  2757.812500  6971.035251   9728.847751\n",
      "2015-12-08  2728.515625  6824.540463   9553.056088\n",
      "2015-12-09  2712.890625  6901.408451   9614.299076\n",
      "2015-12-10  2726.562500  6956.552877   9683.115377\n",
      "2015-12-11  2664.062500  6888.597119   9552.659619\n",
      "2015-12-14  2660.156250  6823.426434   9483.582684\n",
      "2015-12-15  2708.984375  6805.044959   9514.029334\n",
      "2015-12-16  2804.687500  7055.144426   9859.831926\n",
      "2015-12-17  2730.468750  6951.539747   9682.008497\n",
      "2015-12-18  2695.312500  6928.702156   9624.014656\n",
      "2015-12-21  2681.640625  6943.184531   9624.825156\n",
      "2015-12-22  2773.437500  6994.986870   9768.424370\n",
      "2015-12-23  2804.687500  7082.438132   9887.125632\n",
      "2015-12-24  2794.921875  7005.570144   9800.492019\n",
      "2015-12-28  2769.531250  6933.158272   9702.689522\n",
      "2015-12-29  2779.296875  6949.311689   9728.608564\n",
      "2015-12-30  2767.578125  6863.531471   9631.109596\n",
      "2015-12-31  2751.953125  6853.505212   9605.458337\n",
      "\n",
      "[252 rows x 3 columns]\n"
     ]
    }
   ],
   "source": [
    "stocks = stocks/stocks.iloc[0,:]*[3000,7000]\n",
    "stocks[\"Portfolio\"]=stocks[\"Ford\"]+stocks[\"Toyota\"]\n",
    "print(stocks)"
   ]
  },
  {
   "cell_type": "code",
   "execution_count": 40,
   "metadata": {},
   "outputs": [
    {
     "data": {
      "image/png": "[encoded data removed]",
      "text/plain": [
       "<matplotlib.figure.Figure at 0x11a7545f8>"
      ]
     },
     "metadata": {},
     "output_type": "display_data"
    }
   ],
   "source": [
    "stocks.plot.line()\n",
    "plt.gca().set_ylim(bottom=0)\n",
    "plt.show()"
   ]
  },
  {
   "cell_type": "code",
   "execution_count": 41,
   "metadata": {
    "collapsed": true
   },
   "outputs": [],
   "source": [
    "stocks = stocks.pct_change()\n",
    "stocks = stocks.dropna()"
   ]
  },
  {
   "cell_type": "code",
   "execution_count": 42,
   "metadata": {},
   "outputs": [
    {
     "name": "stdout",
     "output_type": "stream",
     "text": [
      "0.01196934603262268\n",
      "0.0119512257512\n"
     ]
    }
   ],
   "source": [
    "print(np.var(stocks[\"Portfolio\"],ddof=1)**.5)\n",
    "var1 = np.var(stocks[\"Ford\"],ddof=1)\n",
    "var2 = np.var(stocks[\"Toyota\"],ddof=1)\n",
    "cov = np.cov(stocks[\"Ford\"],stocks[\"Toyota\"])[0][1]\n",
    "w1=.3\n",
    "w2=.7\n",
    "print((w1**2*var1+w2**2*var2+2*w1*w2*cov)**.5)"
   ]
  }
 ],
 "metadata": {
  "kernelspec": {
   "display_name": "Python 3",
   "language": "python",
   "name": "python3"
  },
  "language_info": {
   "codemirror_mode": {
    "name": "ipython",
    "version": 3
   },
   "file_extension": ".py",
   "mimetype": "text/x-python",
   "name": "python",
   "nbconvert_exporter": "python",
   "pygments_lexer": "ipython3",
   "version": "3.6.1"
  }
 },
 "nbformat": 4,
 "nbformat_minor": 2
}
