{
 "cells": [
  {
   "cell_type": "code",
   "execution_count": 1,
   "metadata": {
    "collapsed": true
   },
   "outputs": [],
   "source": [
    "stocks = ['MMM', 'ABT', 'ABBV', 'ACN', 'ATVI', 'AYI', 'ADBE', 'AMD', 'AAP', 'AES', 'AET', 'AMG', 'AFL', 'A', 'APD', 'AKAM', 'ALK', 'ALB', 'ARE', 'ALXN', 'ALLE', 'AGN', 'ADS', 'LNT', 'ALL', 'GOOGL', 'GOOG', 'MO', 'AMZN', 'AEE', 'AAL', 'AEP', 'AXP', 'AIG', 'AMT', 'AWK', 'AMP', 'ABC', 'AME', 'AMGN', 'APH', 'APC', 'ADI', 'ANTM', 'AON', 'APA', 'AIV', 'AAPL', 'AMAT', 'ADM', 'ARNC', 'AJG', 'AIZ', 'T', 'ADSK', 'ADP', 'AN', 'AZO', 'AVB', 'AVY', 'BHI', 'BLL', 'BAC', 'BK', 'BCR', 'BAX', 'BBT', 'BDX', 'BBBY', 'BRK.B', 'BBY', 'BIIB', 'BLK', 'HRB', 'BA', 'BWA', 'BXP', 'BSX', 'BMY', 'AVGO', 'BF.B', 'CHRW', 'CA', 'COG', 'CPB', 'COF', 'CAH', 'CBOE', 'KMX', 'CCL', 'CAT', 'CBG', 'CBS', 'CELG', 'CNC', 'CNP', 'CTL', 'CERN', 'CF', 'SCHW', 'CHTR', 'CHK', 'CVX', 'CMG', 'CB', 'CHD', 'CI', 'XEC', 'CINF', 'CTAS', 'CSCO', 'C', 'CFG', 'CTXS', 'CLX', 'CME', 'CMS', 'COH', 'KO', 'CTSH', 'CL', 'CMCSA', 'CMA', 'CAG', 'CXO', 'COP', 'ED', 'STZ', 'COO', 'GLW', 'COST', 'COTY', 'CCI', 'CSRA', 'CSX', 'CMI', 'CVS', 'DHI', 'DHR', 'DRI', 'DVA', 'DE', 'DLPH', 'DAL', 'XRAY', 'DVN', 'DLR', 'DFS', 'DISCA', 'DISCK', 'DISH', 'DG', 'DLTR', 'D', 'DOV', 'DOW', 'DPS', 'DTE', 'DD', 'DUK', 'DXC', 'ETFC', 'EMN', 'ETN', 'EBAY', 'ECL', 'EIX', 'EW', 'EA', 'EMR', 'ETR', 'EVHC', 'EOG', 'EQT', 'EFX', 'EQIX', 'EQR', 'ESS', 'EL', 'ES', 'EXC', 'EXPE', 'EXPD', 'ESRX', 'EXR', 'XOM', 'FFIV', 'FB', 'FAST', 'FRT', 'FDX', 'FIS', 'FITB', 'FE', 'FISV', 'FLIR', 'FLS', 'FLR', 'FMC', 'FL', 'F', 'FTV', 'FBHS', 'BEN', 'FCX', 'GPS', 'GRMN', 'IT', 'GD', 'GE', 'GGP', 'GIS', 'GM', 'GPC', 'GILD', 'GPN', 'GS', 'GT', 'GWW', 'HAL', 'HBI', 'HOG', 'HRS', 'HIG', 'HAS', 'HCA', 'HCP', 'HP', 'HSIC', 'HSY', 'HES', 'HPE', 'HOLX', 'HD', 'HON', 'HRL', 'HST', 'HPQ', 'HUM', 'HBAN', 'IDXX', 'INFO', 'ITW', 'ILMN', 'IR', 'INTC', 'ICE', 'IBM', 'INCY', 'IP', 'IPG', 'IFF', 'INTU', 'ISRG', 'IVZ', 'IRM', 'JEC', 'JBHT', 'SJM', 'JNJ', 'JCI', 'JPM', 'JNPR', 'KSU', 'K', 'KEY', 'KMB', 'KIM', 'KMI', 'KLAC', 'KSS', 'KHC', 'KR', 'LB', 'LLL', 'LH', 'LRCX', 'LEG', 'LEN', 'LVLT', 'LUK', 'LLY', 'LNC', 'LKQ', 'LMT', 'L', 'LOW', 'LYB', 'MTB', 'MAC', 'M', 'MNK', 'MRO', 'MPC', 'MAR', 'MMC', 'MLM', 'MAS', 'MA', 'MAT', 'MKC', 'MCD', 'MCK', 'MJN', 'MDT', 'MRK', 'MET', 'MTD', 'KORS', 'MCHP', 'MU', 'MSFT', 'MAA', 'MHK', 'TAP', 'MDLZ', 'MON', 'MNST', 'MCO', 'MS', 'MOS', 'MSI', 'MUR', 'MYL', 'NDAQ', 'NOV', 'NAVI', 'NTAP', 'NFLX', 'NWL', 'NFX', 'NEM', 'NWSA', 'NWS', 'NEE', 'NLSN', 'NKE', 'NI', 'NBL', 'JWN', 'NSC', 'NTRS', 'NOC', 'NRG', 'NUE', 'NVDA', 'ORLY', 'OXY', 'OMC', 'OKE', 'ORCL', 'PCAR', 'PH', 'PDCO', 'PAYX', 'PYPL', 'PNR', 'PBCT', 'PEP', 'PKI', 'PRGO', 'PFE', 'PCG', 'PM', 'PSX', 'PNW', 'PXD', 'PNC', 'RL', 'PPG', 'PPL', 'PX', 'PCLN', 'PFG', 'PG', 'PGR', 'PLD', 'PRU', 'PEG', 'PSA', 'PHM', 'PVH', 'QRVO', 'PWR', 'QCOM', 'DGX', 'RRC', 'RJF', 'RTN', 'O', 'RHT', 'REG', 'REGN', 'RF', 'RSG', 'RAI', 'RHI', 'ROK', 'COL', 'ROP', 'ROST', 'RCL', 'R', 'CRM', 'SCG', 'SLB', 'SNI', 'STX', 'SEE', 'SRE', 'SHW', 'SIG', 'SPG', 'SWKS', 'SLG', 'SNA', 'SO', 'LUV', 'SPGI', 'SWK', 'SPLS', 'SBUX', 'STT', 'SRCL', 'SYK', 'STI', 'SYMC', 'SYF', 'SNPS', 'SYY', 'TROW', 'TGT', 'TEL', 'FTI', 'TDC', 'TSO', 'TXN', 'TXT', 'TMO', 'TIF', 'TWX', 'TJX', 'TMK', 'TSS', 'TSCO', 'TDG', 'RIG', 'TRV', 'TRIP', 'FOXA', 'FOX', 'TSN', 'UDR', 'ULTA', 'USB', 'UA', 'UAA', 'UNP', 'UAL', 'UNH', 'UPS', 'URI', 'UTX', 'UHS', 'UNM', 'VFC', 'VLO', 'VAR', 'VTR', 'VRSN', 'VRSK', 'VZ', 'VRTX', 'VIAB', 'V', 'VNO', 'VMC', 'WMT', 'WBA', 'DIS', 'WM', 'WAT', 'WEC', 'WFC', 'HCN', 'WDC', 'WU', 'WRK', 'WY', 'WHR', 'WFM', 'WMB', 'WLTW', 'WYN', 'WYNN', 'XEL', 'XRX', 'XLNX', 'XL', 'XYL', 'YHOO', 'YUM', 'ZBH', 'ZION', 'ZTS']"
   ]
  },
  {
   "cell_type": "code",
   "execution_count": 2,
   "metadata": {},
   "outputs": [
    {
     "name": "stdout",
     "output_type": "stream",
     "text": [
      "                F\n",
      "Date             \n",
      "2016-01-04  13.97\n",
      "2016-01-05  13.72\n",
      "2016-01-06  13.11\n",
      "2016-01-07  12.70\n",
      "2016-01-08  12.54\n",
      "2016-01-11  12.77\n",
      "2016-01-12  12.85\n",
      "2016-01-13  12.20\n",
      "2016-01-14  12.19\n",
      "2016-01-15  11.97\n",
      "2016-01-19  11.95\n",
      "2016-01-20  11.90\n",
      "2016-01-21  12.01\n",
      "2016-01-22  12.14\n",
      "2016-01-25  11.98\n",
      "2016-01-26  12.26\n",
      "2016-01-27  11.85\n",
      "2016-01-28  11.71\n",
      "2016-01-29  11.94\n",
      "2016-02-01  12.07\n",
      "2016-02-02  11.51\n",
      "2016-02-03  11.46\n",
      "2016-02-04  11.53\n",
      "2016-02-05  11.45\n",
      "2016-02-08  11.59\n",
      "2016-02-09  11.35\n",
      "2016-02-10  11.34\n",
      "2016-02-11  11.17\n",
      "2016-02-12  11.55\n",
      "2016-02-16  11.87\n",
      "...           ...\n",
      "2016-11-17  11.87\n",
      "2016-11-18  11.76\n",
      "2016-11-21  11.79\n",
      "2016-11-22  11.89\n",
      "2016-11-23  11.90\n",
      "2016-11-25  12.04\n",
      "2016-11-28  11.92\n",
      "2016-11-29  11.92\n",
      "2016-11-30  11.96\n",
      "2016-12-01  12.43\n",
      "2016-12-02  12.24\n",
      "2016-12-05  12.44\n",
      "2016-12-06  12.56\n",
      "2016-12-07  13.06\n",
      "2016-12-08  13.03\n",
      "2016-12-09  13.17\n",
      "2016-12-12  12.82\n",
      "2016-12-13  12.77\n",
      "2016-12-14  12.53\n",
      "2016-12-15  12.58\n",
      "2016-12-16  12.63\n",
      "2016-12-19  12.66\n",
      "2016-12-20  12.78\n",
      "2016-12-21  12.64\n",
      "2016-12-22  12.40\n",
      "2016-12-23  12.46\n",
      "2016-12-27  12.39\n",
      "2016-12-28  12.25\n",
      "2016-12-29  12.23\n",
      "2016-12-30  12.13\n",
      "\n",
      "[252 rows x 1 columns]\n"
     ]
    }
   ],
   "source": [
    "import pandas_datareader.data as web\n",
    "import datetime\n",
    "start = datetime.datetime(2016, 1, 1)\n",
    "end = datetime.datetime(2017, 1, 1)\n",
    "stocks1 = web.DataReader([\"F\"], 'google', start, end)[\"Close\"]\n",
    "print(stocks1)"
   ]
  },
  {
   "cell_type": "code",
   "execution_count": 3,
   "metadata": {},
   "outputs": [
    {
     "name": "stdout",
     "output_type": "stream",
     "text": [
      "                   F\n",
      "Date                \n",
      "2016-01-04  1.000000\n",
      "2016-01-05  0.982105\n",
      "2016-01-06  0.938440\n",
      "2016-01-07  0.909091\n",
      "2016-01-08  0.897638\n",
      "2016-01-11  0.914102\n",
      "2016-01-12  0.919828\n",
      "2016-01-13  0.873300\n",
      "2016-01-14  0.872584\n",
      "2016-01-15  0.856836\n",
      "2016-01-19  0.855404\n",
      "2016-01-20  0.851825\n",
      "2016-01-21  0.859699\n",
      "2016-01-22  0.869005\n",
      "2016-01-25  0.857552\n",
      "2016-01-26  0.877595\n",
      "2016-01-27  0.848246\n",
      "2016-01-28  0.838225\n",
      "2016-01-29  0.854689\n",
      "2016-02-01  0.863994\n",
      "2016-02-02  0.823908\n",
      "2016-02-03  0.820329\n",
      "2016-02-04  0.825340\n",
      "2016-02-05  0.819613\n",
      "2016-02-08  0.829635\n",
      "2016-02-09  0.812455\n",
      "2016-02-10  0.811739\n",
      "2016-02-11  0.799571\n",
      "2016-02-12  0.826772\n",
      "2016-02-16  0.849678\n",
      "...              ...\n",
      "2016-11-17  0.849678\n",
      "2016-11-18  0.841804\n",
      "2016-11-21  0.843951\n",
      "2016-11-22  0.851110\n",
      "2016-11-23  0.851825\n",
      "2016-11-25  0.861847\n",
      "2016-11-28  0.853257\n",
      "2016-11-29  0.853257\n",
      "2016-11-30  0.856120\n",
      "2016-12-01  0.889764\n",
      "2016-12-02  0.876163\n",
      "2016-12-05  0.890480\n",
      "2016-12-06  0.899069\n",
      "2016-12-07  0.934860\n",
      "2016-12-08  0.932713\n",
      "2016-12-09  0.942734\n",
      "2016-12-12  0.917681\n",
      "2016-12-13  0.914102\n",
      "2016-12-14  0.896922\n",
      "2016-12-15  0.900501\n",
      "2016-12-16  0.904080\n",
      "2016-12-19  0.906228\n",
      "2016-12-20  0.914817\n",
      "2016-12-21  0.904796\n",
      "2016-12-22  0.887616\n",
      "2016-12-23  0.891911\n",
      "2016-12-27  0.886901\n",
      "2016-12-28  0.876879\n",
      "2016-12-29  0.875447\n",
      "2016-12-30  0.868289\n",
      "\n",
      "[252 rows x 1 columns]\n"
     ]
    }
   ],
   "source": [
    "import numpy as np\n",
    "stocks1 = stocks1/stocks1.iloc[0,:]\n",
    "print(stocks1)"
   ]
  },
  {
   "cell_type": "code",
   "execution_count": 4,
   "metadata": {},
   "outputs": [
    {
     "name": "stdout",
     "output_type": "stream",
     "text": [
      "F    0.000274\n",
      "dtype: float64\n"
     ]
    }
   ],
   "source": [
    "stocks1 = stocks1.pct_change().dropna()\n",
    "print(np.var(stocks1,ddof=1))"
   ]
  },
  {
   "cell_type": "code",
   "execution_count": 5,
   "metadata": {},
   "outputs": [
    {
     "name": "stdout",
     "output_type": "stream",
     "text": [
      "F    0.069083\n",
      "dtype: float64\n",
      "F    0.262837\n",
      "dtype: float64\n"
     ]
    }
   ],
   "source": [
    "print(np.var(stocks1,ddof=1)*252)\n",
    "print((np.var(stocks1,ddof=1)*252)**.5)"
   ]
  },
  {
   "cell_type": "code",
   "execution_count": 6,
   "metadata": {},
   "outputs": [
    {
     "name": "stdout",
     "output_type": "stream",
     "text": [
      "Date\n",
      "2016-01-04    1.000000\n",
      "2016-01-05    1.000886\n",
      "2016-01-06    0.977656\n",
      "2016-01-07    0.954256\n",
      "2016-01-08    0.935985\n",
      "2016-01-11    0.940251\n",
      "2016-01-12    0.949234\n",
      "2016-01-13    0.915102\n",
      "2016-01-14    0.933611\n",
      "2016-01-15    0.921362\n",
      "2016-01-19    0.920260\n",
      "2016-01-20    0.908030\n",
      "2016-01-21    0.921996\n",
      "2016-01-22    0.934342\n",
      "2016-01-25    0.921243\n",
      "2016-01-26    0.935867\n",
      "2016-01-27    0.931504\n",
      "2016-01-28    0.916930\n",
      "2016-01-29    0.946264\n",
      "2016-02-01    0.944382\n",
      "2016-02-02    0.923383\n",
      "2016-02-03    0.933724\n",
      "2016-02-04    0.931567\n",
      "2016-02-05    0.896808\n",
      "2016-02-08    0.873760\n",
      "2016-02-09    0.872508\n",
      "2016-02-10    0.873811\n",
      "2016-02-11    0.860807\n",
      "2016-02-12    0.866551\n",
      "2016-02-16    0.887592\n",
      "                ...   \n",
      "2016-11-17    1.300130\n",
      "2016-11-18    1.297066\n",
      "2016-11-21    1.311592\n",
      "2016-11-22    1.293990\n",
      "2016-11-23    1.302141\n",
      "2016-11-25    1.308709\n",
      "2016-11-28    1.307587\n",
      "2016-11-29    1.316581\n",
      "2016-11-30    1.299943\n",
      "2016-12-01    1.266021\n",
      "2016-12-02    1.272881\n",
      "2016-12-05    1.289296\n",
      "2016-12-06    1.320859\n",
      "2016-12-07    1.338488\n",
      "2016-12-08    1.367686\n",
      "2016-12-09    1.373728\n",
      "2016-12-12    1.388924\n",
      "2016-12-13    1.388627\n",
      "2016-12-14    1.376709\n",
      "2016-12-15    1.388467\n",
      "2016-12-16    1.376708\n",
      "2016-12-19    1.392274\n",
      "2016-12-20    1.410177\n",
      "2016-12-21    1.399722\n",
      "2016-12-22    1.399901\n",
      "2016-12-23    1.401458\n",
      "2016-12-27    1.422355\n",
      "2016-12-28    1.393902\n",
      "2016-12-29    1.398404\n",
      "2016-12-30    1.385433\n",
      "Length: 252, dtype: float64\n"
     ]
    }
   ],
   "source": [
    "stocks10 = web.DataReader(stocks[:10], 'google', start, end)[\"Close\"]\n",
    "stocks10 = stocks10/stocks10.iloc[0,:]\n",
    "stocks10 = stocks10.sum(axis=1)/10\n",
    "print(stocks10)"
   ]
  },
  {
   "cell_type": "code",
   "execution_count": 7,
   "metadata": {},
   "outputs": [
    {
     "name": "stdout",
     "output_type": "stream",
     "text": [
      "0.20652378863504628\n"
     ]
    }
   ],
   "source": [
    "stocks10 = stocks10.pct_change().dropna()\n",
    "print((np.var(stocks10,ddof=1)*252)**.5)"
   ]
  },
  {
   "cell_type": "code",
   "execution_count": 8,
   "metadata": {},
   "outputs": [
    {
     "name": "stdout",
     "output_type": "stream",
     "text": [
      "0.1491148990727453\n"
     ]
    }
   ],
   "source": [
    "stocks100 = web.DataReader(stocks[:100], 'google', start, end)[\"Close\"]\n",
    "stocks100 = stocks100/stocks100.iloc[0,:]\n",
    "stocks100 = stocks100.sum(axis=1)/10\n",
    "stocks100 = stocks100.pct_change().dropna()\n",
    "print((np.var(stocks100,ddof=1)*252)**.5)"
   ]
  }
 ],
 "metadata": {
  "kernelspec": {
   "display_name": "Python 3",
   "language": "python",
   "name": "python3"
  },
  "language_info": {
   "codemirror_mode": {
    "name": "ipython",
    "version": 3
   },
   "file_extension": ".py",
   "mimetype": "text/x-python",
   "name": "python",
   "nbconvert_exporter": "python",
   "pygments_lexer": "ipython3",
   "version": "3.6.1"
  }
 },
 "nbformat": 4,
 "nbformat_minor": 2
}
